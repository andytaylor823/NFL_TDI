{
 "cells": [
  {
   "cell_type": "markdown",
   "metadata": {},
   "source": [
    "This notebook will serve as a brief exploratory data analysis (EDA) of some of the NFL data publicly available at https://www.armchairanalysis.com/nfl-data.php . This data analysis was performed on Nov. 1, 2019 using the 2-week free dataset. The purpose of this EDA is to study interesting aspects of the data and open it up to be further studied as part of my capstone project, should I be accepted to The Data Incubator as a Fellow/Scholar.\n",
    "\n",
    "Each entry in the data consists of a single play that was run in an NFL game (over the last two weeks, for the free data). Incredible attention to detail has been taken with this dataset, as it includes hundreds of variables for each play (see https://www.armchairanalysis.com/2019_AA_Table_Fields.pdf). Because the data is so well-cleaned, this will save me significant time in analyzing it (since we all know that 80% of the time spent analazying data is cleaning it), and I hope to discover meaningful results.\n",
    "\n",
    "My goals for this EDA are to analyze certain aspects of the data, hopefully raising interesting questions that I would spend my capstone project attempting to answer. In this EDA, I will focus on 4th down plays, specifically these plays where teams choose to \"go for it\", trying to reach the first down instead of punting or kicking a field goal.\n",
    "\n",
    "Due to the time limitations of The Data Incubator's challenge and the immense size of the dataset, I was unable to completely explore the data. I hope that what I show here in this EDA is sufficient evidence, however, that I am capable of analyzing this data, and that there are meaningful results to be found in this dataset.\n",
    "\n",
    "Finally, though I am using the \"free\" version of this dataset (only the last 2 weeks are available), I would spend the $125 necessary to access the full research version of the dataset if I were accepted to The Data Incubator's fellowship program."
   ]
  },
  {
   "cell_type": "markdown",
   "metadata": {},
   "source": [
    "-----------------------------------------------------------------------\n",
    "First, we begin by importing the necessary libraries and looking at the data files contained in the zip file available via the first link above."
   ]
  },
  {
   "cell_type": "code",
   "execution_count": 1,
   "metadata": {},
   "outputs": [
    {
     "data": {
      "text/plain": [
       "['nfl_sample_data_research_2019.zip',\n",
       " '2019_AA_Table_Fields.pdf',\n",
       " 'BLOCK.csv',\n",
       " 'CONV.csv',\n",
       " 'DEFENSE.csv',\n",
       " 'DRIVE.csv',\n",
       " 'FGXP.csv',\n",
       " 'FUMBLE.csv',\n",
       " 'GAME.csv',\n",
       " 'INJURY.csv',\n",
       " 'INTERCPT.csv',\n",
       " 'KICKER.csv',\n",
       " 'KOFF.csv',\n",
       " 'OFFENSE.csv',\n",
       " 'PASS.csv',\n",
       " 'PBP.csv',\n",
       " 'PENALTY.csv',\n",
       " 'PLAY.csv',\n",
       " 'PLAYER.csv',\n",
       " 'PUNT.csv',\n",
       " 'REDZONE.csv',\n",
       " 'RUSH.csv',\n",
       " 'SACK.csv',\n",
       " 'SAFETY.csv',\n",
       " 'SCHEDULE.csv',\n",
       " 'SNAP.csv',\n",
       " 'TACKLE.csv',\n",
       " 'TD.csv',\n",
       " 'TEAM.csv',\n",
       " '.ipynb_checkpoints',\n",
       " 'nfl_eda.ipynb',\n",
       " 'NFL_EDA.ipynb']"
      ]
     },
     "execution_count": 1,
     "metadata": {},
     "output_type": "execute_result"
    }
   ],
   "source": [
    "import os\n",
    "import numpy as np\n",
    "import pandas as pd\n",
    "import matplotlib.pyplot as plt\n",
    "from scipy import stats\n",
    "os.listdir('.')"
   ]
  },
  {
   "cell_type": "markdown",
   "metadata": {},
   "source": [
    "There are a TON of csv's in here! These files are explained in detail in https://www.armchairanalysis.com/2019_AA_Table_Fields.pdf . Here, since we want to analyze 4th down plays, we want the \"PBP\" file."
   ]
  },
  {
   "cell_type": "code",
   "execution_count": 2,
   "metadata": {},
   "outputs": [
    {
     "name": "stdout",
     "output_type": "stream",
     "text": [
      "Index(['gid', 'pid', 'detail', 'off', 'def', 'type', 'dseq', 'len', 'qtr',\n",
      "       'min', 'sec', 'ptso', 'ptsd', 'timo', 'timd', 'dwn', 'ytg', 'yfog',\n",
      "       'zone', 'yds', 'succ', 'fd', 'sg', 'nh', 'pts', 'bc', 'kne', 'dir',\n",
      "       'rtck1', 'rtck2', 'psr', 'comp', 'spk', 'loc', 'trg', 'dfb', 'ptck1',\n",
      "       'ptck2', 'sk1', 'sk2', 'ptm1', 'pen1', 'desc1', 'cat1', 'pey1', 'act1',\n",
      "       'ptm2', 'pen2', 'desc2', 'cat2', 'pey2', 'act2', 'ptm3', 'pen3',\n",
      "       'desc3', 'cat3', 'pey3', 'act3', 'ints', 'iry', 'fum', 'frcv', 'fry',\n",
      "       'forc', 'saf', 'blk', 'brcv', 'fgxp', 'fkicker', 'dist', 'good',\n",
      "       'punter', 'pgro', 'pnet', 'ptb', 'pr', 'pry', 'pfc', 'kicker', 'kgro',\n",
      "       'knet', 'ktb', 'kr', 'kry'],\n",
      "      dtype='object')\n"
     ]
    }
   ],
   "source": [
    "pbp = pd.read_csv('PBP.csv')\n",
    "print(pbp.columns)"
   ]
  },
  {
   "cell_type": "markdown",
   "metadata": {},
   "source": [
    "Now, we want to select all 4th down plays where the offensive team \"goes for it\". We want those that (1) are 4th down, (2) did not end in a punt, and (3) did not end in a field goal."
   ]
  },
  {
   "cell_type": "code",
   "execution_count": 3,
   "metadata": {},
   "outputs": [
    {
     "name": "stdout",
     "output_type": "stream",
     "text": [
      "94\n"
     ]
    }
   ],
   "source": [
    "mask = (pbp['dwn']==4) & (pbp['type'] != 'PUNT') & (pbp['type'] != 'FGXP')\n",
    "fourth_down_attempts = pbp[mask]\n",
    "print(len(fourth_down_attempts))"
   ]
  },
  {
   "cell_type": "markdown",
   "metadata": {},
   "source": [
    "At first, it seems like we have 94 possible 4th down conversion attempts over 2 weeks. This seems like a lot! Let's look a bit further There are three \"types\" of plays remaining that may occur on a 4th down: RUSH, PASS, and NOPL (no play). There is actually a lot of information buried in these no-plays, so let's investigate them a bit more. We thought we eliminated all the punts and field goals, but let's see what's in these no-plays:"
   ]
  },
  {
   "cell_type": "code",
   "execution_count": 4,
   "metadata": {},
   "outputs": [
    {
     "name": "stdout",
     "output_type": "stream",
     "text": [
      "Failed punts: 12\n",
      "Failed FGs: 5\n"
     ]
    }
   ],
   "source": [
    "no_plays = fourth_down_attempts[fourth_down_attempts['type']=='NOPL']\n",
    "print('Failed punts: %i' %(sum(['punt' in p.lower() for p in no_plays['detail']])))\n",
    "print('Failed FGs: %i' %(sum(['field goal' in p.lower() for p in no_plays['detail']])))"
   ]
  },
  {
   "cell_type": "markdown",
   "metadata": {},
   "source": [
    "Any time a 4th down occurred and there was a penalty that negated the play, the result was NOPL, even if it was actually a punt or field goal attempt. Let's clean these out and look at the rest of our no-plays data."
   ]
  },
  {
   "cell_type": "code",
   "execution_count": 5,
   "metadata": {},
   "outputs": [
    {
     "name": "stdout",
     "output_type": "stream",
     "text": [
      "(:55) (Shotgun) PENALTY on GB-A.Rodgers, False Start, 5 yards, enforced at CHI 46 - No Play.\n",
      "(4:38) (No Huddle) PENALTY on ARI-Z.Allen, Neutral Zone Infraction, 5 yards, enforced at ARI 19 - No Play.\n",
      "(:05) (Shotgun) PENALTY on DET, Delay of Game, 5 yards, enforced at DET 15 - No Play.\n",
      "(6:21) (Shotgun) J.Garoppolo sacked at TB 40 for -4 yards (J.Whitehead). PENALTY on TB-C.Davis, Defensive Holding, 5 yards, enforced at TB 36 - No Play.\n",
      "(1:28) (Run formation) PENALTY on TB, Delay of Game, 1 yard, enforced at TB 3 - No Play.\n",
      "(:03) (Shotgun) PENALTY on BAL, Delay of Game, 5 yards, enforced at ARI 5 - No Play.\n",
      "(3:38) (No Huddle) PENALTY on TEN-M.Mariota, Delay of Game, 5 yards, enforced at TEN 34 - No Play.\n",
      "(4:10) A.Dalton pass short left to T.Boyd for 16 yards, TOUCHDOWN NULLIFIED by Penalty. PENALTY on CIN-B.Price, Offensive Holding, 10 yards, enforced at SF 16 - No Play.\n",
      "(12:50) (Shotgun) PENALTY on OAK-R.Grant, False Start, 5 yards, enforced at OAK 30 - No Play.\n",
      "(:09) (Pass formation) PENALTY on CHI, Offensive Too Many Men on Field, 5 yards, enforced at CHI 45 - No Play.\n",
      "(10:28) B.Mayfield pass incomplete short right to T.Taylor (N.Hairston). PENALTY on NYJ-N.Hairston, Defensive Holding, 5 yards, enforced at NYJ 24 - No Play.\n",
      "(1:03) (Shotgun) Penalty on CLE, Delay of Game, declined.\n",
      "(11:17) (Pass formation) Penalty on CLE, Delay of Game, declined.\n",
      "(1:13) (Pass formation) Penalty on CLE, Delay of Game, declined.\n"
     ]
    }
   ],
   "source": [
    "msk1 = np.array(['punt' not in p.lower() for p in no_plays['detail']])\n",
    "msk2 = np.array(['field goal' not in p.lower() for p in no_plays['detail']])\n",
    "almost_plays = no_plays[(msk1) & (msk2)]\n",
    "for d in almost_plays['detail']:\n",
    "    print(d)"
   ]
  },
  {
   "cell_type": "markdown",
   "metadata": {},
   "source": [
    "It seems like these are all what we want. All the data are plays where the offense appears to be \"going for it\". Let's apply these filtering conditions to our data and continue"
   ]
  },
  {
   "cell_type": "code",
   "execution_count": 6,
   "metadata": {},
   "outputs": [
    {
     "name": "stdout",
     "output_type": "stream",
     "text": [
      "76\n"
     ]
    }
   ],
   "source": [
    "msk1 = np.array(['punt' not in p.lower() for p in fourth_down_attempts['detail']])\n",
    "msk2 = np.array(['field goal' not in p.lower() for p in fourth_down_attempts['detail']])\n",
    "fourth_down_attempts = fourth_down_attempts[(msk1) & (msk2)]\n",
    "print(len(fourth_down_attempts))"
   ]
  },
  {
   "cell_type": "markdown",
   "metadata": {},
   "source": [
    "We now have 76 4th down conversion attempts to work with. This will do for now, but we would like to have more data in the future."
   ]
  },
  {
   "cell_type": "markdown",
   "metadata": {},
   "source": [
    "Let's answer some basic questions about our data. What is the overall conversion rate on 4th down, when the play was truly executed (ignoring the NOPLs for now)?"
   ]
  },
  {
   "cell_type": "code",
   "execution_count": 7,
   "metadata": {},
   "outputs": [
    {
     "name": "stdout",
     "output_type": "stream",
     "text": [
      "0.5161290322580645\n"
     ]
    }
   ],
   "source": [
    "conversion_rate = sum((fourth_down_attempts['type']!='NOPL') & (fourth_down_attempts['fd']=='Y'))/sum(fourth_down_attempts['type']!='NOPL')\n",
    "print(conversion_rate)"
   ]
  },
  {
   "cell_type": "markdown",
   "metadata": {},
   "source": [
    "How does the conversion rate look for plays of different yardage? Say, 3 or less vs 4 or more?"
   ]
  },
  {
   "cell_type": "code",
   "execution_count": 8,
   "metadata": {},
   "outputs": [
    {
     "name": "stdout",
     "output_type": "stream",
     "text": [
      "Success rate with <= 3 ytg: 0.51\n",
      "Success rate with > 3 ytg: 0.52\n"
     ]
    }
   ],
   "source": [
    "msk_convert_3orless = (fourth_down_attempts['type']!='NOPL') & (fourth_down_attempts['ytg']<=3) & (fourth_down_attempts['fd']=='Y')\n",
    "msk_3orless = (fourth_down_attempts['type']!='NOPL') & (fourth_down_attempts['ytg']<=3)\n",
    "msk_convert_4ormore = (fourth_down_attempts['type']!='NOPL') & (fourth_down_attempts['ytg']>3) & (fourth_down_attempts['fd']=='Y')\n",
    "msk_4ormore = (fourth_down_attempts['type']!='NOPL') & (fourth_down_attempts['ytg']>3)\n",
    "print('Success rate with <= 3 ytg: %.2f' %(sum(msk_convert_3orless)/sum(msk_3orless)))\n",
    "print('Success rate with > 3 ytg: %.2f' %(sum(msk_convert_4ormore)/sum(msk_4ormore)))"
   ]
  },
  {
   "cell_type": "markdown",
   "metadata": {},
   "source": [
    "It looks like there's no difference in the success rate of converting whether or not the team is in a 4th-and-short vs 4th-and-medium/long situation. That's pretty surprising!\n",
    "\n",
    "Let's keep looking. What's the average score differential (offense points - defense points) when the team tries to convert a 4th down?"
   ]
  },
  {
   "cell_type": "code",
   "execution_count": 9,
   "metadata": {},
   "outputs": [
    {
     "name": "stdout",
     "output_type": "stream",
     "text": [
      "Average point differential: -8.36\n"
     ]
    },
    {
     "data": {
      "image/png": "[encoded data removed]",
      "text/plain": [
       "<Figure size 432x288 with 1 Axes>"
      ]
     },
     "metadata": {
      "needs_background": "light"
     },
     "output_type": "display_data"
    }
   ],
   "source": [
    "delta_points = np.array(fourth_down_attempts['ptso'])-np.array(fourth_down_attempts['ptsd'])\n",
    "print('Average point differential: %.2f' %np.average(delta_points))\n",
    "plt.hist(delta_points)\n",
    "plt.show()"
   ]
  },
  {
   "cell_type": "markdown",
   "metadata": {},
   "source": [
    "So 4th down conversion attempts mostly happen when the offense is losing. That makes sense, as the offense likely feels like they have extra motivation to score when they're down by so much, and a winning offense would rather take the advantageous field position for their defense, rather than potentially score more points.\n",
    "\n",
    "How common are penalties on 4th down, and how does this compare to normal play?"
   ]
  },
  {
   "cell_type": "code",
   "execution_count": 13,
   "metadata": {},
   "outputs": [
    {
     "name": "stdout",
     "output_type": "stream",
     "text": [
      "Global: 0.11        4th down only: 0.22\n"
     ]
    }
   ],
   "source": [
    "n_penalties_4d = sum([str(p) != 'nan' for p in fourth_down_attempts['ptm1']])\n",
    "n_penalties_global = sum([str(p) != 'nan' for p in pbp['ptm1']])\n",
    "penalty_rate_4d = n_penalties_4d/len(fourth_down_attempts)\n",
    "penalty_rate_global = n_penalties_global/len(pbp)\n",
    "print('Global: %.2f        4th down only: %.2f' %(penalty_rate_global, penalty_rate_4d))"
   ]
  },
  {
   "cell_type": "markdown",
   "metadata": {},
   "source": [
    "This is pretty interesting, too! It seems like penalties happen twice as frequently on 4th downs as on all other plays. Perhaps players get nervous when they know their team is trying to make/stop a 4th down conversion, and they make mental mistakes? This requires further study.\n",
    "\n",
    "Next, what does the distribution look like for number of yards to go?"
   ]
  },
  {
   "cell_type": "code",
   "execution_count": 17,
   "metadata": {},
   "outputs": [
    {
     "name": "stdout",
     "output_type": "stream",
     "text": [
      "Average yards to go: 5.13\n",
      "Median yards to go:  3.00\n"
     ]
    },
    {
     "data": {
      "image/png": "[encoded data removed]",
      "text/plain": [
       "<Figure size 432x288 with 1 Axes>"
      ]
     },
     "metadata": {
      "needs_background": "light"
     },
     "output_type": "display_data"
    }
   ],
   "source": [
    "print('Average yards to go: %.2f' %np.average(fourth_down_attempts['ytg']))\n",
    "print('Median yards to go:  %.2f' %np.median(fourth_down_attempts['ytg']))\n",
    "plt.hist(fourth_down_attempts['ytg'])\n",
    "plt.xlabel('Yards to go')\n",
    "plt.show()"
   ]
  },
  {
   "cell_type": "markdown",
   "metadata": {},
   "source": [
    "Looks like the data are heavily skewed towards shorter yards to go, with a long tail (and one sad attempt on 4th and 23) toward longer yards to go.\n",
    "\n",
    "Next, what about play-calling? How frequently are rushing plays called, and how frequently are passing plays called?"
   ]
  },
  {
   "cell_type": "code",
   "execution_count": 14,
   "metadata": {},
   "outputs": [
    {
     "name": "stdout",
     "output_type": "stream",
     "text": [
      "Rush percentage: 0.27     Pass Percentage 0.73\n"
     ]
    }
   ],
   "source": [
    "n_rushes = sum(fourth_down_attempts['type']=='RUSH')\n",
    "n_passes = sum(fourth_down_attempts['type']=='PASS')\n",
    "print('Rush percentage: %.2f     Pass Percentage %.2f' %(n_rushes/(n_rushes+n_passes), n_passes/(n_rushes+n_passes)))"
   ]
  },
  {
   "cell_type": "markdown",
   "metadata": {},
   "source": [
    "This is also pretty surprising! Since most attempts are made with only a few yards to go, it seems surprising that teams are more likely to try a risky pass play than a relatively safer rushing play. This certainly requires further study (though that is beyond the scope of this EDA).\n",
    "\n",
    "Finally, let us look at field position. Where do teams often attempt 4th down conversions from on the field?"
   ]
  },
  {
   "cell_type": "code",
   "execution_count": 18,
   "metadata": {},
   "outputs": [
    {
     "name": "stdout",
     "output_type": "stream",
     "text": [
      "Average yards to opposing endzone: 39.84\n"
     ]
    },
    {
     "data": {
      "image/png": "[encoded data removed]",
      "text/plain": [
       "<Figure size 432x288 with 1 Axes>"
      ]
     },
     "metadata": {
      "needs_background": "light"
     },
     "output_type": "display_data"
    }
   ],
   "source": [
    "yardline = 100-np.array(fourth_down_attempts['yfog'])\n",
    "print('Average yards to opposing endzone: %.2f' %np.average(yardline))\n",
    "plt.hist(yardline)\n",
    "plt.xlabel('Yards to opposing endzone')\n",
    "plt.show()"
   ]
  },
  {
   "cell_type": "markdown",
   "metadata": {},
   "source": [
    "So, we see a mostly normal distribution centered around midfield with a slight increase in attempts in near-endzone situations. With more data, these trends will certainly become clearer."
   ]
  },
  {
   "cell_type": "markdown",
   "metadata": {},
   "source": [
    "-------------------------------------------------------\n",
    "Again, given the time constraints of The Data Incubator's challenge, I was unable to go as in-depth as I would like in this EDA. I believe that I have explored the data enough to raise interesting questions, and that I have demonstrated that I am capable of analyzing the data to answer these.\n",
    "\n",
    "With more time (and more data), I would like to further study 4th downs. What are the expected points per attempt? How frequently do 4th down attempts/conversions result in points for the offense? What is the expected number of points for the opposing *defense* on 4th down attempts/conversions? Ultimately, when is it \"worth it\" to go for it on 4th down?\n",
    "\n",
    "In addition to studying 4th down plays, I would like to answer many other common football questions using the beautiful dataset provided by Armchair Analysis. For example, conventional wisdom says that it's smart for defenses to blitz on 3rd downs, especially when the offense is led by an inexperienced quarterback. Is there truth to this? As another example, poor weather conditions often lead to conservative play-calling and more rushing plays than passing plays. Is this true, and if so, does it actually work for offenses playing in bad conditions?\n",
    "\n",
    "Answers to these questions are just some of the possible results I would produce, if I were selected for The Data Incubator's Fellowship program."
   ]
  },
  {
   "cell_type": "code",
   "execution_count": null,
   "metadata": {},
   "outputs": [],
   "source": []
  }
 ],
 "metadata": {
  "kernelspec": {
   "display_name": "Python 3",
   "language": "python",
   "name": "python3"
  },
  "language_info": {
   "codemirror_mode": {
    "name": "ipython",
    "version": 3
   },
   "file_extension": ".py",
   "mimetype": "text/x-python",
   "name": "python",
   "nbconvert_exporter": "python",
   "pygments_lexer": "ipython3",
   "version": "3.7.1"
  }
 },
 "nbformat": 4,
 "nbformat_minor": 2
}
